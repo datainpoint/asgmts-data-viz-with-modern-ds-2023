{
 "cells": [
  {
   "cell_type": "markdown",
   "metadata": {
    "deletable": false,
    "editable": false
   },
   "source": [
    "# Data Visualization with Modern Data Science\n",
    "\n",
    "> Midterm\n",
    "\n",
    "Yao-Jen Kuo <yaojenkuo@ntu.edu.tw> from [DATAINPOINT](https://www.datainpoint.com)"
   ]
  },
  {
   "cell_type": "markdown",
   "metadata": {
    "deletable": false
   },
   "source": [
    "## Instructions\n",
    "\n",
    "- It is highly recommended that you test your solution in SQLiteStudio then paste into Google Colab.\n",
    "- Write down your solution between comments `-- BEGIN SOLUTION` and `-- END SOLUTION`.\n",
    "- Running tests to see if your solutions are right:\n",
    "    - Runtime -> Restart and run all.\n",
    "- When you are ready to submit, click File -> Download -> Download `.py`.\n",
    "\n",
    "![](https://i.imgur.com/Y1BcDdx.png)\n",
    "\n",
    "- Open a new Colab in a private window, upload the script and run tests again before submission to make sure the script is executable in a fresh new Colab.\n",
    "\n",
    "![](https://i.imgur.com/ojlvbds.png)\n",
    "\n",
    "- Upload to the Assignment session on NTU COOL."
   ]
  },
  {
   "cell_type": "markdown",
   "metadata": {},
   "source": [
    "## Run the cell below to download given files at your working directory."
   ]
  },
  {
   "cell_type": "code",
   "execution_count": null,
   "metadata": {},
   "outputs": [],
   "source": [
    "import unittest\n",
    "import requests\n",
    "import numpy as np\n",
    "import pandas as pd\n",
    "import sqlite3\n",
    "\n",
    "file_names = [\"imdb.db\"]\n",
    "for file_name in file_names:\n",
    "    file_url = f\"https://raw.githubusercontent.com/datainpoint/asgmts-data-viz-with-modern-ds-2023/main/{file_name}\"\n",
    "    r = requests.get(file_url)\n",
    "    with open(file_name , \"wb\") as f:\n",
    "        f.write(r.content)"
   ]
  },
  {
   "cell_type": "markdown",
   "metadata": {
    "deletable": false
   },
   "source": [
    "![](https://raw.githubusercontent.com/datainpoint/asgmts-data-viz-with-modern-ds-2023/main/imdb_db.png)\n",
    "\n",
    "Source: <https://www.imdb.com/chart/top>"
   ]
  },
  {
   "cell_type": "markdown",
   "metadata": {},
   "source": [
    "## 01. Write a SQL statement that is able to retrieve the table list given database `imdb.db`.\n",
    "\n",
    "Hint: querying metadata table `sqlite_master`.\n",
    "\n",
    "```\n",
    "    type       name\n",
    "0  table     actors\n",
    "1  table    casting\n",
    "2  table  directors\n",
    "3  table     movies\n",
    "```"
   ]
  },
  {
   "cell_type": "code",
   "execution_count": null,
   "metadata": {},
   "outputs": [],
   "source": [
    "retrieve_table_list_from_imdbdb =\\\n",
    "\"\"\"\n",
    "-- BEGIN SOLUTION\n",
    "\n",
    "-- END SOLUTION\n",
    "\"\"\""
   ]
  },
  {
   "cell_type": "markdown",
   "metadata": {},
   "source": [
    "## 02. Write a SQL statement that is able to retrieve the table information given database `imdb.db`.\n",
    "\n",
    "Hint: number of columns can be queried through `PRAGMA_TABLE_INFO()` function.\n",
    "\n",
    "```\n",
    "  table_name  number_of_rows  number_of_columns\n",
    "0     actors            3201                  2\n",
    "1    casting            3712                  4\n",
    "2  directors             154                  2\n",
    "3     movies             250                  6\n",
    "```"
   ]
  },
  {
   "cell_type": "code",
   "execution_count": null,
   "metadata": {},
   "outputs": [],
   "source": [
    "retrieve_table_info_from_imdbdb =\\\n",
    "\"\"\"\n",
    "-- BEGIN SOLUTION\n",
    "\n",
    "-- END SOLUTION\n",
    "\"\"\""
   ]
  },
  {
   "cell_type": "markdown",
   "metadata": {},
   "source": [
    "## 03. Write a SQL statement that is able to extract movies released in 1994.\n",
    "\n",
    "```\n",
    "                      title  rating  release_year           director\n",
    "0  The Shawshank Redemption     9.2          1994     Frank Darabont\n",
    "1              Pulp Fiction     8.8          1994  Quentin Tarantino\n",
    "2              Forrest Gump     8.8          1994    Robert Zemeckis\n",
    "3    Léon: The Professional     8.5          1994         Luc Besson\n",
    "4             The Lion King     8.5          1994       Roger Allers\n",
    "```"
   ]
  },
  {
   "cell_type": "code",
   "execution_count": null,
   "metadata": {},
   "outputs": [],
   "source": [
    "extract_movies_release_in_1994 =\\\n",
    "\"\"\"\n",
    "-- BEGIN SOLUTION\n",
    "\n",
    "-- END SOLUTION\n",
    "\"\"\""
   ]
  },
  {
   "cell_type": "markdown",
   "metadata": {},
   "source": [
    "## 04. Write a SQL statement that is able to extract the 2 famous trilogy series.\n",
    "\n",
    "```\n",
    "   episode                                              title  release_year  \\\n",
    "0        1                                      Batman Begins          2005   \n",
    "1        2                                    The Dark Knight          2008   \n",
    "2        3                              The Dark Knight Rises          2012   \n",
    "3        1  The Lord of the Rings: The Fellowship of the Ring          2001   \n",
    "4        2              The Lord of the Rings: The Two Towers          2002   \n",
    "5        3      The Lord of the Rings: The Return of the King          2003   \n",
    "\n",
    "            director  \n",
    "0  Christopher Nolan  \n",
    "1  Christopher Nolan  \n",
    "2  Christopher Nolan  \n",
    "3      Peter Jackson  \n",
    "4      Peter Jackson  \n",
    "5      Peter Jackson\n",
    "```"
   ]
  },
  {
   "cell_type": "code",
   "execution_count": null,
   "metadata": {},
   "outputs": [],
   "source": [
    "extract_lord_of_the_rings_and_dark_knight_trilogy =\\\n",
    "\"\"\"\n",
    "-- BEGIN SOLUTION\n",
    "\n",
    "-- END SOLUTION\n",
    "\"\"\""
   ]
  },
  {
   "cell_type": "markdown",
   "metadata": {},
   "source": [
    "## 05. Write a SQL statement that is able to extract the directors who have made greater than 3 movies on the top 250 of IMDb.com list.\n",
    "\n",
    "```\n",
    "             director  number_of_movies\n",
    "0      Akira Kurosawa                 7\n",
    "1   Christopher Nolan                 7\n",
    "2     Martin Scorsese                 7\n",
    "3     Stanley Kubrick                 7\n",
    "4    Steven Spielberg                 7\n",
    "5    Alfred Hitchcock                 6\n",
    "6        Billy Wilder                 5\n",
    "7     Charles Chaplin                 5\n",
    "8   Quentin Tarantino                 5\n",
    "9      Hayao Miyazaki                 4\n",
    "10       Sergio Leone                 4\n",
    "```"
   ]
  },
  {
   "cell_type": "code",
   "execution_count": null,
   "metadata": {},
   "outputs": [],
   "source": [
    "extract_directors_made_more_than_three_movies =\\\n",
    "\"\"\"\n",
    "-- BEGIN SOLUTION\n",
    "\n",
    "-- END SOLUTION\n",
    "\"\"\""
   ]
  },
  {
   "cell_type": "markdown",
   "metadata": {},
   "source": [
    "## 06. Write a SQL statement that is able to extract the movies with a IMDb rating greater than 'Parasite'.\n",
    "\n",
    "```\n",
    "                                                title\n",
    "0                            The Shawshank Redemption\n",
    "1                                       The Godfather\n",
    "2                                     The Dark Knight\n",
    "3                               The Godfather Part II\n",
    "4                                        12 Angry Men\n",
    "5                                    Schindler's List\n",
    "6       The Lord of the Rings: The Return of the King\n",
    "7                                        Pulp Fiction\n",
    "8   The Lord of the Rings: The Fellowship of the Ring\n",
    "9                      The Good, the Bad and the Ugly\n",
    "10                                       Forrest Gump\n",
    "11                                         Fight Club\n",
    "12              The Lord of the Rings: The Two Towers\n",
    "13                                          Inception\n",
    "14     Star Wars: Episode V - The Empire Strikes Back\n",
    "15                                         The Matrix\n",
    "16                                         Goodfellas\n",
    "17                    One Flew Over the Cuckoo's Nest\n",
    "18                                              Se7en\n",
    "19                              It's a Wonderful Life\n",
    "20                                      Seven Samurai\n",
    "21                           The Silence of the Lambs\n",
    "22                                Saving Private Ryan\n",
    "23                                        City of God\n",
    "24                                       Interstellar\n",
    "25                                  Life Is Beautiful\n",
    "26                                     The Green Mile\n",
    "```"
   ]
  },
  {
   "cell_type": "code",
   "execution_count": null,
   "metadata": {},
   "outputs": [],
   "source": [
    "extract_movies_with_rating_greater_than_parasite =\\\n",
    "\"\"\"\n",
    "-- BEGIN SOLUTION\n",
    "\n",
    "-- END SOLUTION\n",
    "\"\"\""
   ]
  },
  {
   "cell_type": "markdown",
   "metadata": {},
   "source": [
    "## 07. Write a SQL statement that is able to calculate the percentage of number of movies released before 1980(`release_year < 1980`), movies released between 1980(`release_year >= 1980`) and 2000(`release_year <= 2000`), and movies released after 2000(`release_year > 2000`) from `movies`.\n",
    "\n",
    "```\n",
    "                period percentage\n",
    "0  Between 80s and 00s      29.2%\n",
    "1           Before 80s      34.0%\n",
    "2            After 00s      36.8%\n",
    "```"
   ]
  },
  {
   "cell_type": "code",
   "execution_count": null,
   "metadata": {},
   "outputs": [],
   "source": [
    "calculate_percentage_for_each_period =\\\n",
    "\"\"\"\n",
    "-- BEGIN SOLUTION\n",
    "\n",
    "-- END SOLUTION\n",
    "\"\"\""
   ]
  },
  {
   "cell_type": "markdown",
   "metadata": {},
   "source": [
    "## 08. Write a SQL statement that is able to extract the cast list of 'Top Gun: Maverick'.\n",
    "\n",
    "```\n",
    "    actor_id               name  ord\n",
    "0       2953         Tom Cruise    1\n",
    "1       3031         Val Kilmer    2\n",
    "2       2163       Miles Teller    3\n",
    "3       1447  Jennifer Connelly    4\n",
    "4        244  Bashir Salahuddin    5\n",
    "5       1587           Jon Hamm    6\n",
    "6        464    Charles Parnell    7\n",
    "7       2191     Monica Barbaro    8\n",
    "8       1869      Lewis Pullman    9\n",
    "9       1415          Jay Ellis   10\n",
    "10       635      Danny Ramirez   11\n",
    "11      1100        Glen Powell   12\n",
    "12      1323    Jack Schumacher   13\n",
    "13      1966      Manny Jacinto   14\n",
    "14      1685          Kara Wang   15\n",
    "```"
   ]
  },
  {
   "cell_type": "code",
   "execution_count": null,
   "metadata": {},
   "outputs": [],
   "source": [
    "extract_the_cast_list_of_top_gun_maverick =\\\n",
    "\"\"\"\n",
    "-- BEGIN SOLUTION\n",
    "\n",
    "-- END SOLUTION\n",
    "\"\"\""
   ]
  },
  {
   "cell_type": "markdown",
   "metadata": {},
   "source": [
    "## 09. Write a SQL statement that is able to extract the movies in which 'Tom Hanks' or 'Leonardo DiCaprio' has appeared.\n",
    "\n",
    "```\n",
    "                      title               name  ord\n",
    "0       Catch Me If You Can  Leonardo DiCaprio    1\n",
    "1       Catch Me If You Can          Tom Hanks    2\n",
    "2          Django Unchained  Leonardo DiCaprio    3\n",
    "3              Forrest Gump          Tom Hanks    1\n",
    "4                 Inception  Leonardo DiCaprio    1\n",
    "5       Saving Private Ryan          Tom Hanks    1\n",
    "6            Shutter Island  Leonardo DiCaprio    1\n",
    "7              The Departed  Leonardo DiCaprio    1\n",
    "8            The Green Mile          Tom Hanks    1\n",
    "9   The Wolf of Wall Street  Leonardo DiCaprio    1\n",
    "10                Toy Story          Tom Hanks    1\n",
    "11              Toy Story 3          Tom Hanks    1\n",
    "```"
   ]
  },
  {
   "cell_type": "code",
   "execution_count": null,
   "metadata": {},
   "outputs": [],
   "source": [
    "extract_the_movies_with_tom_hanks_and_leonardo_dicaprio =\\\n",
    "\"\"\"\n",
    "-- BEGIN SOLUTION\n",
    "\n",
    "-- END SOLUTION\n",
    "\"\"\""
   ]
  },
  {
   "cell_type": "markdown",
   "metadata": {},
   "source": [
    "## 10. Write a SQL statement that is able to summarize `imdb.db`.\n",
    "\n",
    "```\n",
    "            person_or_movie                      description  value\n",
    "0            Robert De Niro           Actor appears the most    9.0\n",
    "1            Akira Kurosawa        Director directs the most    7.0\n",
    "2         Christopher Nolan        Director directs the most    7.0\n",
    "3           Martin Scorsese        Director directs the most    7.0\n",
    "4           Stanley Kubrick        Director directs the most    7.0\n",
    "5          Steven Spielberg        Director directs the most    7.0\n",
    "6             The Godfather    Movie with the highest rating    9.2\n",
    "7  The Shawshank Redemption    Movie with the highest rating    9.2\n",
    "8        Gone with the Wind   Movie with the longest runtime  238.0\n",
    "9              Sherlock Jr.  Movie with the shortest runtime   45.0\n",
    "```"
   ]
  },
  {
   "cell_type": "code",
   "execution_count": null,
   "metadata": {},
   "outputs": [],
   "source": [
    "summarize_imdbdb =\\\n",
    "\"\"\"\n",
    "-- BEGIN SOLUTION\n",
    "\n",
    "-- END SOLUTION\n",
    "\"\"\""
   ]
  },
  {
   "cell_type": "markdown",
   "metadata": {
    "deletable": false,
    "editable": false
   },
   "source": [
    "## End of assignment, ignore the following cells."
   ]
  },
  {
   "cell_type": "code",
   "execution_count": null,
   "metadata": {},
   "outputs": [],
   "source": [
    "class TestAssignmentThree(unittest.TestCase):\n",
    "    def test_01_retrieve_table_list_from_imdbdb(self):\n",
    "        table_list_from_imdbdb = pd.read_sql(retrieve_table_list_from_imdbdb, connection)\n",
    "        self.assertEqual(table_list_from_imdbdb.shape, (4, 2))\n",
    "        types = table_list_from_imdbdb.iloc[:, 0].values.tolist()\n",
    "        names = table_list_from_imdbdb.iloc[:, 1].values.tolist()\n",
    "        self.assertIn(\"table\", types)\n",
    "        self.assertIn(\"actors\", names)\n",
    "        self.assertIn(\"casting\", names)\n",
    "        self.assertIn(\"directors\", names)\n",
    "        self.assertIn(\"movies\", names)\n",
    "    def test_02_retrieve_table_info_from_imdbdb(self):\n",
    "        table_info_from_imdbdb = pd.read_sql(retrieve_table_info_from_imdbdb, connection)\n",
    "        self.assertEqual(table_info_from_imdbdb.shape, (4, 3))\n",
    "        names = table_info_from_imdbdb.iloc[:, 0].values.tolist()\n",
    "        self.assertIn(\"actors\", names)\n",
    "        self.assertIn(\"casting\", names)\n",
    "        self.assertIn(\"directors\", names)\n",
    "        self.assertIn(\"movies\", names)\n",
    "        number_of_rows = table_info_from_imdbdb.iloc[:, 1].values.tolist()\n",
    "        self.assertIn(250, number_of_rows)\n",
    "        self.assertIn(3201, number_of_rows)\n",
    "        self.assertIn(3712, number_of_rows)\n",
    "        self.assertIn(154, number_of_rows)\n",
    "        number_of_columns = table_info_from_imdbdb.iloc[:, 2].values.tolist()\n",
    "        self.assertIn(2, number_of_columns)\n",
    "        self.assertIn(4, number_of_columns)\n",
    "        self.assertIn(2, number_of_columns)\n",
    "        self.assertIn(6, number_of_columns)\n",
    "    def test_03_extract_movies_release_in_1994(self):\n",
    "        movies_release_in_1994 = pd.read_sql(extract_movies_release_in_1994, connection)\n",
    "        self.assertEqual(movies_release_in_1994.shape, (5, 4))\n",
    "        titles = movies_release_in_1994.iloc[:, 0].values.tolist()\n",
    "        self.assertIn(\"The Shawshank Redemption\", titles)\n",
    "        self.assertIn(\"Forrest Gump\", titles)\n",
    "        directors = movies_release_in_1994.iloc[:, 3].values.tolist()\n",
    "        self.assertIn(\"Frank Darabont\", directors)\n",
    "        self.assertIn(\"Quentin Tarantino\", directors)\n",
    "    def test_04_extract_lord_of_the_rings_and_dark_knight_trilogy(self):\n",
    "        lord_of_the_rings_and_dark_knight_trilogy = pd.read_sql(extract_lord_of_the_rings_and_dark_knight_trilogy, connection)\n",
    "        self.assertEqual(lord_of_the_rings_and_dark_knight_trilogy.shape, (6, 4))\n",
    "        directors = lord_of_the_rings_and_dark_knight_trilogy.iloc[:, 3].values.tolist()\n",
    "        self.assertIn(\"Christopher Nolan\", directors)\n",
    "        self.assertIn(\"Peter Jackson\", directors)\n",
    "    def test_05_extract_directors_made_more_than_three_movies(self):\n",
    "        directors_made_more_than_three_movies = pd.read_sql(extract_directors_made_more_than_three_movies, connection)\n",
    "        self.assertEqual(directors_made_more_than_three_movies.shape, (11, 2))\n",
    "        directors = directors_made_more_than_three_movies.iloc[:, 0].values.tolist()\n",
    "        self.assertIn(\"Christopher Nolan\", directors)\n",
    "        self.assertIn(\"Steven Spielberg\", directors)\n",
    "        self.assertIn(\"Quentin Tarantino\", directors)\n",
    "        self.assertEqual(directors_made_more_than_three_movies[\"number_of_movies\"].max(), 7)\n",
    "        self.assertEqual(directors_made_more_than_three_movies[\"number_of_movies\"].min(), 4)\n",
    "    def test_06_extract_movies_with_rating_greater_than_parasite(self):\n",
    "        movies_with_rating_greater_than_parasite = pd.read_sql(extract_movies_with_rating_greater_than_parasite, connection)\n",
    "        self.assertEqual(movies_with_rating_greater_than_parasite.shape, (27, 1))\n",
    "        titles = movies_with_rating_greater_than_parasite.iloc[:, 0].values.tolist()\n",
    "        self.assertIn(\"Forrest Gump\", titles)\n",
    "        self.assertIn(\"Fight Club\", titles)\n",
    "        self.assertIn(\"Interstellar\", titles)\n",
    "        self.assertIn(\"Inception\", titles)\n",
    "        self.assertIn(\"The Matrix\", titles)\n",
    "    def test_07_calculate_percentage_for_each_period(self):\n",
    "        percentage_for_each_period = pd.read_sql(calculate_percentage_for_each_period, connection)\n",
    "        self.assertEqual(percentage_for_each_period.shape, (3, 2))\n",
    "    def test_08_extract_the_cast_list_of_top_gun_maverick(self):\n",
    "        the_cast_list_of_top_gun_maverick = pd.read_sql(extract_the_cast_list_of_top_gun_maverick, connection)\n",
    "        self.assertEqual(the_cast_list_of_top_gun_maverick.shape, (15, 3))\n",
    "        actors = the_cast_list_of_top_gun_maverick.iloc[:, 1].values.tolist()\n",
    "        self.assertIn(\"Tom Cruise\", actors)\n",
    "        self.assertIn(\"Val Kilmer\", actors)\n",
    "        orders = the_cast_list_of_top_gun_maverick.iloc[:, 2].values\n",
    "        self.assertEqual(orders.min(), 1)\n",
    "        self.assertEqual(orders.max(), 15)\n",
    "    def test_09_extract_the_movies_with_tom_hanks_and_leonardo_dicaprio(self):\n",
    "        the_movies_with_tom_hanks_and_leonardo_dicaprio = pd.read_sql(extract_the_movies_with_tom_hanks_and_leonardo_dicaprio, connection)\n",
    "        self.assertEqual(the_movies_with_tom_hanks_and_leonardo_dicaprio.shape, (12, 3))\n",
    "        titles = the_movies_with_tom_hanks_and_leonardo_dicaprio.iloc[:, 0].values.tolist()\n",
    "        self.assertIn(\"Catch Me If You Can\", titles)\n",
    "        self.assertIn(\"Forrest Gump\", titles)\n",
    "        self.assertIn(\"Inception\", titles)\n",
    "        names = the_movies_with_tom_hanks_and_leonardo_dicaprio.iloc[:, 1].values.tolist()\n",
    "        self.assertIn(\"Tom Hanks\", names)\n",
    "        self.assertIn(\"Leonardo DiCaprio\", names)\n",
    "    def test_10_summarize_imdbdb(self):\n",
    "        imdbdb_summary = pd.read_sql(summarize_imdbdb, connection)\n",
    "        self.assertEqual(imdbdb_summary.shape, (10, 3))\n",
    "        persons_or_movies = imdbdb_summary.iloc[:, 0].values.tolist()\n",
    "        self.assertIn(\"Robert De Niro\", persons_or_movies)\n",
    "        self.assertIn(\"Gone with the Wind\", persons_or_movies)\n",
    "        self.assertIn(\"Akira Kurosawa\", persons_or_movies)\n",
    "        self.assertIn(\"Christopher Nolan\", persons_or_movies)\n",
    "        self.assertIn(\"Sherlock Jr.\", persons_or_movies)\n",
    "        descriptions = imdbdb_summary.iloc[:, 1].values.tolist()\n",
    "        self.assertIn(\"Actor appears the most\", descriptions)\n",
    "        self.assertIn(\"Director directs the most\", descriptions)\n",
    "        self.assertIn(\"Movie with the highest rating\", descriptions)\n",
    "        self.assertIn(\"Movie with the longest runtime\", descriptions)\n",
    "        self.assertIn(\"Movie with the shortest runtime\", descriptions)\n",
    "\n",
    "connection = sqlite3.connect('imdb.db')\n",
    "suite = unittest.TestLoader().loadTestsFromTestCase(TestAssignmentThree)\n",
    "runner = unittest.TextTestRunner(verbosity=2)\n",
    "test_results = runner.run(suite)\n",
    "number_of_failures = len(test_results.failures)\n",
    "number_of_errors = len(test_results.errors)\n",
    "number_of_test_runs = test_results.testsRun\n",
    "number_of_successes = number_of_test_runs - (number_of_failures + number_of_errors)"
   ]
  },
  {
   "cell_type": "code",
   "execution_count": null,
   "metadata": {},
   "outputs": [],
   "source": [
    "print(\"You've got {} successes among {} questions.\".format(number_of_successes, number_of_test_runs))"
   ]
  }
 ],
 "metadata": {
  "celltoolbar": "Edit Metadata",
  "kernelspec": {
   "display_name": "Python 3 (ipykernel)",
   "language": "python",
   "name": "python3"
  },
  "language_info": {
   "codemirror_mode": {
    "name": "ipython",
    "version": 3
   },
   "file_extension": ".py",
   "mimetype": "text/x-python",
   "name": "python",
   "nbconvert_exporter": "python",
   "pygments_lexer": "ipython3",
   "version": "3.9.12"
  }
 },
 "nbformat": 4,
 "nbformat_minor": 4
}
