{
 "cells": [
  {
   "cell_type": "markdown",
   "metadata": {
    "deletable": false
   },
   "source": [
    "# Data Visualization with Modern Data Science\n",
    "\n",
    "> Assignment 4\n",
    "\n",
    "Yao-Jen Kuo <yaojenkuo@ntu.edu.tw> from [DATAINPOINT](https://www.datainpoint.com)"
   ]
  },
  {
   "cell_type": "markdown",
   "metadata": {
    "deletable": false
   },
   "source": [
    "## Instructions\n",
    "\n",
    "- It is highly recommended that you test your solution in SQLiteStudio then paste into Google Colab.\n",
    "- Write down your solution between comments `### BEGIN SOLUTION` and `### END SOLUTION`.\n",
    "- Running tests to see if your solutions are right:\n",
    "    - Runtime -> Restart and run all.\n",
    "- When you are ready to submit, click File -> Download -> Download `.py`.\n",
    "\n",
    "![](https://i.imgur.com/Y1BcDdx.png)\n",
    "\n",
    "- Open a new Colab in a private window, upload the script and run tests again before submission to make sure the script is executable in a fresh new Colab.\n",
    "\n",
    "![](https://i.imgur.com/ojlvbds.png)\n",
    "\n",
    "- Upload to the Assignment session on NTU COOL."
   ]
  },
  {
   "cell_type": "markdown",
   "metadata": {},
   "source": [
    "## 01. Define a Python function `check_data_type(x)` which returns the data type of `x` in a string format."
   ]
  },
  {
   "cell_type": "code",
   "execution_count": null,
   "metadata": {},
   "outputs": [],
   "source": [
    "def check_data_type(x) -> str:\n",
    "    \"\"\"\n",
    "    >>> check_data_type(1)\n",
    "    'int'\n",
    "    >>> check_data_type(1.0)\n",
    "    'float'\n",
    "    >>> check_data_type(False)\n",
    "    'bool'\n",
    "    >>> check_data_type(True)\n",
    "    'bool'\n",
    "    >>> check_data_type('5566')\n",
    "    'str'\n",
    "    >>> check_data_type(None)\n",
    "    'NoneType'\n",
    "    \"\"\"\n",
    "    ### BEGIN SOLUTION\n",
    "    \n",
    "    ### END SOLUTION"
   ]
  },
  {
   "cell_type": "markdown",
   "metadata": {},
   "source": [
    "## 02. Define a Python function `check_data_structure(x)` which returns the data structure of `x` in a string format."
   ]
  },
  {
   "cell_type": "code",
   "execution_count": null,
   "metadata": {},
   "outputs": [],
   "source": [
    "def check_data_structure(x) -> str:\n",
    "    \"\"\"\n",
    "    >>> check_data_structure([2, 3, 5, 7, 11])\n",
    "    'list'\n",
    "    >>> check_data_structure((2, 3, 5, 7, 11))\n",
    "    'tuple'\n",
    "    >>> check_data_structure({'0': 2, '1': 3, '2': 5, '3': 7, '4': 11})\n",
    "    'dict'\n",
    "    >>> check_data_structure({2, 3, 5, 7, 11})\n",
    "    'set'\n",
    "    \"\"\"\n",
    "    ### BEGIN SOLUTION\n",
    "    \n",
    "    ### END SOLUTION"
   ]
  },
  {
   "cell_type": "markdown",
   "metadata": {},
   "source": [
    "## 03. Define a Python function `retrieve_the_middle_elements(x)` which returns the middle elements of a given `list`. "
   ]
  },
  {
   "cell_type": "code",
   "execution_count": null,
   "metadata": {},
   "outputs": [],
   "source": [
    "def retrieve_the_middle_elements(x: list):\n",
    "    \"\"\"\n",
    "    >>> retrieve_the_middle_elements([2, 3, 5])\n",
    "    3\n",
    "    >>> retrieve_the_middle_elements([2, 3, 5, 7])\n",
    "    (3, 5)\n",
    "    >>> retrieve_the_middle_elements([2, 3, 5, 7, 11])\n",
    "    5\n",
    "    >>> retrieve_the_middle_elements([2, 3, 5, 7, 11, 13])\n",
    "    (5, 7)\n",
    "    \"\"\"\n",
    "    ### BEGIN SOLUTION\n",
    "    \n",
    "    ### END SOLUTION"
   ]
  },
  {
   "cell_type": "markdown",
   "metadata": {},
   "source": [
    "## 04. Define a function `median(x)` which returns the median value of a given list.\n",
    "\n",
    "Source: <https://en.wikipedia.org/wiki/Median>"
   ]
  },
  {
   "cell_type": "code",
   "execution_count": null,
   "metadata": {},
   "outputs": [],
   "source": [
    "def median(x: list):\n",
    "    \"\"\"\n",
    "    >>> median([2, 3, 5, 7, 11])\n",
    "    5\n",
    "    >>> median([2, 3, 5, 7, 11, 13])\n",
    "    6.0\n",
    "    >>> median([11, 13, 17, 2, 3, 5, 7])\n",
    "    7\n",
    "    >>> median([7, 11, 13, 17, 19, 2, 3, 5])\n",
    "    9.0\n",
    "    \"\"\"\n",
    "    ### BEGIN SOLUTION\n",
    "    \n",
    "    ### END SOLUTION"
   ]
  },
  {
   "cell_type": "markdown",
   "metadata": {},
   "source": [
    "## 05. Define a Python function `collect_divisors(x)` which returns all positive divisors of a given `int`.\n",
    "\n",
    "Source: <https://en.wikipedia.org/wiki/Divisor>"
   ]
  },
  {
   "cell_type": "code",
   "execution_count": null,
   "metadata": {},
   "outputs": [],
   "source": [
    "def collect_divisors(x: int) -> set:\n",
    "    \"\"\"\n",
    "    >>> collect_divisors(1)\n",
    "    {1}\n",
    "    >>> collect_divisors(2)\n",
    "    {1, 2}\n",
    "    >>> collect_divisors(3)\n",
    "    {1, 3}\n",
    "    >>> collect_divisors(4)\n",
    "    {1, 2, 4}\n",
    "    >>> collect_divisors(5)\n",
    "    {1, 5}\n",
    "    \"\"\"\n",
    "    ### BEGIN SOLUTION\n",
    "    \n",
    "    ### END SOLUTION"
   ]
  },
  {
   "cell_type": "markdown",
   "metadata": {},
   "source": [
    "## 06. Define a Python function `is_prime(x)` which returns whether a given `int` is a prime number or not.\n",
    "\n",
    "Source: <https://en.wikipedia.org/wiki/Prime_number>"
   ]
  },
  {
   "cell_type": "code",
   "execution_count": null,
   "metadata": {},
   "outputs": [],
   "source": [
    "def is_prime(x: int) -> bool:\n",
    "    \"\"\"\n",
    "    >>> is_prime(1)\n",
    "    False\n",
    "    >>> is_prime(2)\n",
    "    True\n",
    "    >>> is_prime(3)\n",
    "    True\n",
    "    >>> is_prime(4)\n",
    "    False\n",
    "    >>> is_prime(5)\n",
    "    True\n",
    "    \"\"\"\n",
    "    ### BEGIN SOLUTION\n",
    "    \n",
    "    ### END SOLUTION"
   ]
  },
  {
   "cell_type": "markdown",
   "metadata": {},
   "source": [
    "## 07. Define a Python function named `collect_common_divisors(x, y)` which returns all positive common divisors given 2 integers `x` and `y`. "
   ]
  },
  {
   "cell_type": "code",
   "execution_count": null,
   "metadata": {},
   "outputs": [],
   "source": [
    "def collect_common_divisors(x: int, y: int) -> set:\n",
    "    \"\"\"\n",
    "    >>> collect_common_divisors(2, 4)\n",
    "    {1, 2}\n",
    "    >>> collect_common_divisors(5, 7)\n",
    "    {1}\n",
    "    >>> collect_common_divisors(9, 27)\n",
    "    {1, 3, 9}\n",
    "    >>> collect_common_divisors(11, 13)\n",
    "    {1}\n",
    "    \"\"\"\n",
    "    ### BEGIN SOLUTION\n",
    "    \n",
    "    ### END SOLUTION"
   ]
  },
  {
   "cell_type": "markdown",
   "metadata": {},
   "source": [
    "## 08. Define a Python function `list_first_n_prime_numbers(x)` which returns the first `n` prime numbers in a list."
   ]
  },
  {
   "cell_type": "code",
   "execution_count": null,
   "metadata": {},
   "outputs": [],
   "source": [
    "def list_first_n_prime_numbers(n: int) -> list:\n",
    "    \"\"\"\n",
    "    >>> list_first_n_prime_numbers(5)\n",
    "    [2, 3, 5, 7, 11]\n",
    "    >>> list_first_n_prime_numbers(10)\n",
    "    [2, 3, 5, 7, 11, 13, 17, 19, 23, 29]\n",
    "    >>> list_first_n_prime_numbers(30)\n",
    "    [2, 3, 5, 7, 11, 13, 17, 19, 23, 29, 31, 37, 41, 43, 47, 53, 59, 61, 67, 71, 73, 79, 83, 89, 97, 101, 103, 107, 109, 113]\n",
    "    \"\"\"\n",
    "    ### BEGIN SOLUTION\n",
    "    \n",
    "    ### END SOLUTION"
   ]
  },
  {
   "cell_type": "markdown",
   "metadata": {},
   "source": [
    "## 09. Define a Python function `swap_vowel_case(x)` which converts the input from upper-cased to lower-cased, and from lower-cased to upper-cased, respectively if the input is a vowel."
   ]
  },
  {
   "cell_type": "code",
   "execution_count": null,
   "metadata": {},
   "outputs": [],
   "source": [
    "def swap_vowel_case(x: str) -> str:\n",
    "    \"\"\"\n",
    "    >>> swap_vowel_case('a')\n",
    "    'A'\n",
    "    >>> swap_vowel_case('b')\n",
    "    'b'\n",
    "    >>> swap_vowel_case('c')\n",
    "    'c'\n",
    "    >>> swap_vowel_case('d')\n",
    "    'd'\n",
    "    >>> swap_vowel_case('e')\n",
    "    'E'\n",
    "    >>> swap_vowel_case('A')\n",
    "    'a'\n",
    "    >>> swap_vowel_case('B')\n",
    "    'B'\n",
    "    >>> swap_vowel_case('C')\n",
    "    'C'\n",
    "    >>> swap_vowel_case('D')\n",
    "    'D'\n",
    "    >>> swap_vowel_case('E')\n",
    "    'e'\n",
    "    \"\"\"\n",
    "    ### BEGIN SOLUTION\n",
    "    \n",
    "    ### END SOLUTION"
   ]
  },
  {
   "cell_type": "markdown",
   "metadata": {},
   "source": [
    "## 10. Define a Python function `swap_vowels_case_in_word(x)` which converts the vowels in a word from upper-cased to lower-cased, and from lower-cased to upper-cased, respectively."
   ]
  },
  {
   "cell_type": "code",
   "execution_count": null,
   "metadata": {},
   "outputs": [],
   "source": [
    "def swap_vowels_case_in_word(x: str) -> str:\n",
    "    \"\"\"\n",
    "    >>> swap_vowels_case_in_word('Luke Skywalker')\n",
    "    'LUkE SkywAlkEr'\n",
    "    >>> swap_vowels_case_in_word('Darth Vader')\n",
    "    'DArth VAdEr'\n",
    "    >>> swap_vowels_case_in_word('Anakin Skywalker')\n",
    "    'anAkIn SkywAlkEr'\n",
    "    \"\"\"\n",
    "    ### BEGIN SOLUTION\n",
    "    \n",
    "    ### END SOLUTION"
   ]
  },
  {
   "cell_type": "markdown",
   "metadata": {
    "deletable": false
   },
   "source": [
    "## End of assignment, run the following cells to get test result."
   ]
  },
  {
   "cell_type": "code",
   "execution_count": null,
   "metadata": {},
   "outputs": [],
   "source": [
    "import unittest\n",
    "\n",
    "class TestAssignmentFour(unittest.TestCase):\n",
    "    def test_01_check_data_type(self):\n",
    "        self.assertEqual(check_data_type(1), 'int')\n",
    "        self.assertEqual(check_data_type(1.0), 'float')\n",
    "        self.assertEqual(check_data_type(False), 'bool')\n",
    "        self.assertEqual(check_data_type(True), 'bool')\n",
    "        self.assertEqual(check_data_type('5566'), 'str')\n",
    "        self.assertEqual(check_data_type(None), 'NoneType')\n",
    "    def test_02_check_data_structure(self):\n",
    "        self.assertEqual(check_data_structure([2, 3, 5, 7, 11]), 'list')\n",
    "        self.assertEqual(check_data_structure((2, 3, 5, 7, 11)), 'tuple')\n",
    "        self.assertEqual(check_data_structure({'0': 2, '1': 3, '2': 5, '3': 7, '4': 11}), 'dict')\n",
    "        self.assertEqual(check_data_structure({2, 3, 5, 7, 11}), 'set')\n",
    "    def test_03_retrieve_the_middle_elements(self):\n",
    "        self.assertEqual(retrieve_the_middle_elements([2, 3, 5]), 3)\n",
    "        self.assertEqual(retrieve_the_middle_elements([2, 3, 5, 7]), (3, 5))\n",
    "        self.assertEqual(retrieve_the_middle_elements([2, 3, 5, 7, 11]), 5)\n",
    "        self.assertEqual(retrieve_the_middle_elements([2, 3, 5, 7, 11, 13]), (5, 7))\n",
    "    def test_04_median(self):\n",
    "        self.assertEqual(median([2, 3, 5, 7, 11]), 5)\n",
    "        self.assertEqual(median([2, 3, 5, 7, 11, 13]), 6.0)\n",
    "        self.assertEqual(median([11, 13, 17, 2, 3, 5, 7]), 7)\n",
    "        self.assertEqual(median([7, 11, 13, 17, 19, 2, 3, 5]), 9.0)\n",
    "    def test_05_collect_divisors(self):\n",
    "        self.assertEqual(collect_divisors(1), {1})\n",
    "        self.assertEqual(collect_divisors(2), {1, 2})\n",
    "        self.assertEqual(collect_divisors(3), {1, 3})\n",
    "        self.assertEqual(collect_divisors(4), {1, 2, 4})\n",
    "        self.assertEqual(collect_divisors(5), {1, 5})\n",
    "    def test_06_is_prime(self):\n",
    "        self.assertFalse(is_prime(1))\n",
    "        self.assertFalse(is_prime(4))\n",
    "        self.assertFalse(is_prime(6))\n",
    "        self.assertFalse(is_prime(8))\n",
    "        self.assertFalse(is_prime(9))\n",
    "        self.assertTrue(is_prime(2))\n",
    "        self.assertTrue(is_prime(3))\n",
    "        self.assertTrue(is_prime(5))\n",
    "        self.assertTrue(is_prime(7))\n",
    "    def test_07_collect_common_divisors(self):\n",
    "        self.assertEqual(collect_common_divisors(2, 4), {1, 2})\n",
    "        self.assertEqual(collect_common_divisors(5, 7), {1})\n",
    "        self.assertEqual(collect_common_divisors(9, 27), {1, 3, 9})\n",
    "        self.assertEqual(collect_common_divisors(11, 13), {1})\n",
    "    def test_08_list_first_n_prime_numbers(self):\n",
    "        self.assertEqual(list_first_n_prime_numbers(5), [2, 3, 5, 7, 11])\n",
    "        self.assertEqual(list_first_n_prime_numbers(10), [2, 3, 5, 7, 11, 13, 17, 19, 23, 29])\n",
    "        self.assertEqual(list_first_n_prime_numbers(30), [2, 3, 5, 7, 11, 13, 17, 19, 23, 29, 31, 37, 41, 43, 47, 53, 59, 61, 67, 71, 73, 79, 83, 89, 97, 101, 103, 107, 109, 113])\n",
    "    def test_09_swap_vowel_case(self):\n",
    "        self.assertEqual(swap_vowel_case('a'), 'A')\n",
    "        self.assertEqual(swap_vowel_case('b'), 'b')\n",
    "        self.assertEqual(swap_vowel_case('c'), 'c')\n",
    "        self.assertEqual(swap_vowel_case('d'), 'd')\n",
    "        self.assertEqual(swap_vowel_case('e'), 'E')\n",
    "        self.assertEqual(swap_vowel_case('A'), 'a')\n",
    "        self.assertEqual(swap_vowel_case('B'), 'B')\n",
    "        self.assertEqual(swap_vowel_case('C'), 'C')\n",
    "        self.assertEqual(swap_vowel_case('D'), 'D')\n",
    "        self.assertEqual(swap_vowel_case('E'), 'e')\n",
    "    def test_10_swap_vowels_case(self):\n",
    "        self.assertEqual(swap_vowels_case_in_word('Luke Skywalker'), 'LUkE SkywAlkEr')\n",
    "        self.assertEqual(swap_vowels_case_in_word('Anakin Skywalker'), 'anAkIn SkywAlkEr')\n",
    "        self.assertEqual(swap_vowels_case_in_word('Darth Vader'), 'DArth VAdEr')\n",
    "        self.assertEqual(swap_vowels_case_in_word('Yoda'), 'YOdA')\n",
    "        self.assertEqual(swap_vowels_case_in_word('Han Solo'), 'HAn SOlO')\n",
    "\n",
    "suite = unittest.TestLoader().loadTestsFromTestCase(TestAssignmentFour)\n",
    "runner = unittest.TextTestRunner(verbosity=2)\n",
    "test_results = runner.run(suite)\n",
    "number_of_failures = len(test_results.failures)\n",
    "number_of_errors = len(test_results.errors)\n",
    "number_of_test_runs = test_results.testsRun\n",
    "number_of_successes = number_of_test_runs - (number_of_failures + number_of_errors)"
   ]
  },
  {
   "cell_type": "code",
   "execution_count": null,
   "metadata": {},
   "outputs": [],
   "source": [
    "print(\"You've got {} successes among {} questions.\".format(number_of_successes, number_of_test_runs))"
   ]
  }
 ],
 "metadata": {
  "celltoolbar": "Edit Metadata",
  "kernelspec": {
   "display_name": "Python 3 (ipykernel)",
   "language": "python",
   "name": "python3"
  },
  "language_info": {
   "codemirror_mode": {
    "name": "ipython",
    "version": 3
   },
   "file_extension": ".py",
   "mimetype": "text/x-python",
   "name": "python",
   "nbconvert_exporter": "python",
   "pygments_lexer": "ipython3",
   "version": "3.9.12"
  }
 },
 "nbformat": 4,
 "nbformat_minor": 4
}
