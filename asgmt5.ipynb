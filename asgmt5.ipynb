{
 "cells": [
  {
   "cell_type": "markdown",
   "metadata": {
    "deletable": false
   },
   "source": [
    "# Data Visualization with Modern Data Science\n",
    "\n",
    "> Assignment 5\n",
    "\n",
    "Yao-Jen Kuo <yaojenkuo@ntu.edu.tw> from [DATAINPOINT](https://www.datainpoint.com)"
   ]
  },
  {
   "cell_type": "code",
   "execution_count": null,
   "metadata": {
    "deletable": false
   },
   "outputs": [],
   "source": [
    "import unittest\n",
    "import json\n",
    "import requests\n",
    "import numpy as np\n",
    "import pandas as pd"
   ]
  },
  {
   "cell_type": "markdown",
   "metadata": {
    "deletable": false
   },
   "source": [
    "## Instructions\n",
    "\n",
    "- Write down your solution between comments `### BEGIN SOLUTION` and `### END SOLUTION`.\n",
    "- Running tests to see if your solutions are right:\n",
    "    - Runtime -> Restart and run all.\n",
    "- When you are ready to submit, click File -> Download -> Download `.py`.\n",
    "\n",
    "![](https://i.imgur.com/Y1BcDdx.png)\n",
    "\n",
    "- Open a new Colab in a private window, upload the script and run tests again before submission to make sure the script is executable in a fresh new Colab.\n",
    "\n",
    "![](https://i.imgur.com/ojlvbds.png)\n",
    "\n",
    "- Upload to the Assignment session on NTU COOL."
   ]
  },
  {
   "cell_type": "markdown",
   "metadata": {},
   "source": [
    "## In the following exercises, you will need some files to complete the functions. Run the cell below to download those files at your working directory."
   ]
  },
  {
   "cell_type": "code",
   "execution_count": null,
   "metadata": {},
   "outputs": [],
   "source": [
    "file_names = [\"teams.json\", \"all_time_olympic_medals.csv\", \"movies.csv\"]\n",
    "for file_name in file_names:\n",
    "    file_url = f\"https://raw.githubusercontent.com/datainpoint/asgmts-data-viz-with-modern-ds-2023/main/{file_name}\"\n",
    "    r = requests.get(file_url)\n",
    "    with open(file_name , 'wb') as f:\n",
    "        f.write(r.content)"
   ]
  },
  {
   "cell_type": "markdown",
   "metadata": {},
   "source": [
    "## 01. Define a function `import_all_time_olympic_medals()` which imports `all_time_olympic_medals.csv` in working directory."
   ]
  },
  {
   "cell_type": "code",
   "execution_count": null,
   "metadata": {},
   "outputs": [],
   "source": [
    "def import_all_time_olympic_medals() -> pd.core.frame.DataFrame:\n",
    "    \"\"\"\n",
    "    >>> all_time_olympic_medals = import_all_time_olympic_medals()\n",
    "    >>> type(all_time_olympic_medals)\n",
    "    pandas.core.frame.DataFrame\n",
    "    >>> all_time_olympic_medals.shape\n",
    "    (157, 17)\n",
    "    \"\"\"\n",
    "    ### BEGIN SOLUTION\n",
    "    \n",
    "    ### END SOLUTION"
   ]
  },
  {
   "cell_type": "markdown",
   "metadata": {},
   "source": [
    "## 02. Define a function `find_taiwan_from_all_time_olympic_medals()` which retrieves the data of Taiwan given `all_time_olympic_medals.csv` in working directory.\n",
    "\n",
    "```\n",
    "          team_name team_ioc  no_summer_games  no_summer_golds  \\\n",
    "131  Chinese Taipei      TPE               15                7   \n",
    "\n",
    "     no_summer_silvers  no_summer_bronzes  no_summer_totals  no_winter_games  \\\n",
    "131                 11                 18                36               12   \n",
    "\n",
    "     no_winter_golds  no_winter_silvers  no_winter_bronzes  no_winter_totals  \\\n",
    "131                0                  0                  0                 0   \n",
    "\n",
    "     no_combined_games  no_combined_golds  no_combined_silvers  \\\n",
    "131                 27                  7                   11   \n",
    "\n",
    "     no_combined_bronzes no_combined_totals  \n",
    "131                   18                 36 \n",
    "```"
   ]
  },
  {
   "cell_type": "code",
   "execution_count": null,
   "metadata": {},
   "outputs": [],
   "source": [
    "def find_taiwan_from_all_time_olympic_medals() -> pd.core.frame.DataFrame:\n",
    "    \"\"\"\n",
    "    >>> taiwan_from_all_time_olympic_medals = find_taiwan_from_all_time_olympic_medals()\n",
    "    >>> type(taiwan_from_all_time_olympic_medals)\n",
    "    pandas.core.frame.DataFrame\n",
    "    >>> taiwan_from_all_time_olympic_medals.shape\n",
    "    (1, 17)\n",
    "    \"\"\"\n",
    "    ### BEGIN SOLUTION\n",
    "    \n",
    "    ### END SOLUTION"
   ]
  },
  {
   "cell_type": "markdown",
   "metadata": {},
   "source": [
    "## 03. Define a function `find_the_king_of_summer_olympics()` which retrieves the data of the country that won the most gold medals in summer Olympics, given `all_time_olympic_medals.csv` in working directory.\n",
    "\n",
    "Hint: Exclude the data of \"Totals\" at the last row of `all_time_olympic_medals.csv`."
   ]
  },
  {
   "cell_type": "code",
   "execution_count": null,
   "metadata": {},
   "outputs": [],
   "source": [
    "def find_the_king_of_summer_olympics() -> pd.core.frame.DataFrame:\n",
    "    \"\"\"\n",
    "    >>> the_king_of_summer_olympics = find_the_king_of_summer_olympics()\n",
    "    >>> type(the_king_of_summer_olympics)\n",
    "    pandas.core.frame.DataFrame\n",
    "    >>> the_king_of_summer_olympics.shape\n",
    "    (1, 17)\n",
    "    \"\"\"\n",
    "    ### BEGIN SOLUTION\n",
    "    \n",
    "    ### END SOLUTION"
   ]
  },
  {
   "cell_type": "markdown",
   "metadata": {},
   "source": [
    "## 04. Define a function `find_the_king_of_winter_olympics()` which retrieves the data of the country that won the most gold medals in winter Olympics, given `all_time_olympic_medals.csv` in working directory.\n",
    "\n",
    "Hint: Exclude the data of \"Totals\" at the last row of `all_time_olympic_medals.csv`."
   ]
  },
  {
   "cell_type": "code",
   "execution_count": null,
   "metadata": {},
   "outputs": [],
   "source": [
    "def find_the_king_of_winter_olympics() -> pd.core.frame.DataFrame:\n",
    "    \"\"\"\n",
    "    >>> the_king_of_winter_olympics = find_the_king_of_winter_olympics()\n",
    "    >>> type(the_king_of_winter_olympics)\n",
    "    pandas.core.frame.DataFrame\n",
    "    >>> the_king_of_winter_olympics.shape\n",
    "    (1, 17)\n",
    "    \"\"\"\n",
    "    ### BEGIN SOLUTION\n",
    "    \n",
    "    ### END SOLUTION"
   ]
  },
  {
   "cell_type": "markdown",
   "metadata": {},
   "source": [
    "## 05. Define a function `calculate_summer_winter_medals_ratio()` which calculates the ratio according to the formula below, given `all_time_olympic_medals.csv` in working directory.\n",
    "\n",
    "\\begin{equation}\n",
    "\\text{Ratio} = \\frac{\\text{Summer Golds} - \\text{Winter Golds}}{\\text{Total Golds}}\n",
    "\\end{equation}\n",
    "\n",
    "Hint: Exclude the data of \"Totals\" at the last row of `all_time_olympic_medals.csv`.\n",
    "\n",
    "```\n",
    "                            team_name  no_summer_golds  no_winter_golds  ratio\n",
    "0                         Afghanistan                0                0    NaN\n",
    "1                             Algeria                5                0    1.0\n",
    "2                           Argentina               21                0    1.0\n",
    "3                             Armenia                2                0    1.0\n",
    "4                         Australasia                3                0    1.0\n",
    "..                                ...              ...              ...    ...\n",
    "151                            Zambia                0                0    NaN\n",
    "152                          Zimbabwe                3                0    1.0\n",
    "153      Independent Olympic Athletes                1                0    1.0\n",
    "154  Independent Olympic Participants                0                0    NaN\n",
    "155                        Mixed team               11                0    1.0\n",
    "\n",
    "[156 rows x 4 columns]\n",
    "```"
   ]
  },
  {
   "cell_type": "code",
   "execution_count": null,
   "metadata": {},
   "outputs": [],
   "source": [
    "def calculate_summer_winter_medals_ratio() -> pd.core.frame.DataFrame:\n",
    "    \"\"\"\n",
    "    >>> summer_winter_medals_ratio = calculate_summer_winter_medals_ratio()\n",
    "    >>> type(summer_winter_medals_ratio)\n",
    "    pandas.core.frame.DataFrame\n",
    "    >>> summer_winter_medals_ratio.shape\n",
    "    (156, 4)\n",
    "    \"\"\"\n",
    "    ### BEGIN SOLUTION\n",
    "    \n",
    "    ### END SOLUTION"
   ]
  },
  {
   "cell_type": "markdown",
   "metadata": {},
   "source": [
    "## 06. Define a function `find_the_largest_summer_winter_medals_ratio()` which retrieves the country with the largest ratio calculated in the previous exercises, given `all_time_olympic_medals.csv` in working directory.\n",
    "\n",
    "Hint: Exclude the data of \"Totals\" at the last row of `all_time_olympic_medals.csv`. And also exclude those countries with `ratio == 1.0` or `ratio is np.NaN`."
   ]
  },
  {
   "cell_type": "code",
   "execution_count": null,
   "metadata": {},
   "outputs": [],
   "source": [
    "def find_the_largest_summer_winter_medals_ratio() -> pd.core.frame.DataFrame:\n",
    "    \"\"\"\n",
    "    >>> the_largest_summer_winter_medals_ratio = find_the_largest_summer_winter_medals_ratio()\n",
    "    >>> type(the_largest_summer_winter_medals_ratio)\n",
    "    pandas.core.frame.DataFrame\n",
    "    >>> the_largest_summer_winter_medals_ratio.shape\n",
    "    (1, 4)\n",
    "    \"\"\"\n",
    "    ### BEGIN SOLUTION\n",
    "    \n",
    "    ### END SOLUTION"
   ]
  },
  {
   "cell_type": "markdown",
   "metadata": {},
   "source": [
    "## 07. Define a function `create_nba_teams()` which creates a DataFrame of NBA franchise teams in standard league given nested key `[\"league\"][\"standard\"]` of `teams.json` in working directory.\n",
    "\n",
    "```\n",
    "                  fullName tricode confName    divName           city\n",
    "0            Atlanta Hawks     ATL     East  Southeast        Atlanta\n",
    "1           Boston Celtics     BOS     East   Atlantic         Boston\n",
    "2            Brooklyn Nets     BKN     East   Atlantic       Brooklyn\n",
    "3        Charlotte Hornets     CHA     East  Southeast      Charlotte\n",
    "4            Chicago Bulls     CHI     East    Central        Chicago\n",
    "5      Cleveland Cavaliers     CLE     East    Central      Cleveland\n",
    "6         Dallas Mavericks     DAL     West  Southwest         Dallas\n",
    "7           Denver Nuggets     DEN     West  Northwest         Denver\n",
    "8          Detroit Pistons     DET     East    Central        Detroit\n",
    "9    Golden State Warriors     GSW     West    Pacific   Golden State\n",
    "10         Houston Rockets     HOU     West  Southwest        Houston\n",
    "11          Indiana Pacers     IND     East    Central        Indiana\n",
    "12             LA Clippers     LAC     West    Pacific             LA\n",
    "13      Los Angeles Lakers     LAL     West    Pacific    Los Angeles\n",
    "14       Memphis Grizzlies     MEM     West  Southwest        Memphis\n",
    "15              Miami Heat     MIA     East  Southeast          Miami\n",
    "16         Milwaukee Bucks     MIL     East    Central      Milwaukee\n",
    "17  Minnesota Timberwolves     MIN     West  Northwest      Minnesota\n",
    "18    New Orleans Pelicans     NOP     West  Southwest    New Orleans\n",
    "19         New York Knicks     NYK     East   Atlantic       New York\n",
    "20   Oklahoma City Thunder     OKC     West  Northwest  Oklahoma City\n",
    "21           Orlando Magic     ORL     East  Southeast        Orlando\n",
    "22      Philadelphia 76ers     PHI     East   Atlantic   Philadelphia\n",
    "23            Phoenix Suns     PHX     West    Pacific        Phoenix\n",
    "24  Portland Trail Blazers     POR     West  Northwest       Portland\n",
    "25        Sacramento Kings     SAC     West    Pacific     Sacramento\n",
    "26       San Antonio Spurs     SAS     West  Southwest    San Antonio\n",
    "27         Toronto Raptors     TOR     East   Atlantic        Toronto\n",
    "28               Utah Jazz     UTA     West  Northwest           Utah\n",
    "29      Washington Wizards     WAS     East  Southeast     Washington\n",
    "```"
   ]
  },
  {
   "cell_type": "code",
   "execution_count": null,
   "metadata": {},
   "outputs": [],
   "source": [
    "def create_nba_teams() -> pd.core.frame.DataFrame:\n",
    "    \"\"\"\n",
    "    >>> nba_teams = create_nba_teams()\n",
    "    >>> type(nba_teams)\n",
    "    pandas.core.frame.DataFrame\n",
    "    >>> nba_teams.shape\n",
    "    (30, 5)\n",
    "    \"\"\"\n",
    "    ### BEGIN SOLUTION\n",
    "    \n",
    "    ### END SOLUTION"
   ]
  },
  {
   "cell_type": "markdown",
   "metadata": {},
   "source": [
    "## 08. Define a function `subset_nba_teams()` which subsets teams whose `tricode` is not the first 3 letters of its city in upper-cased form.\n",
    "\n",
    "```\n",
    "   tricode           city\n",
    "2      BKN       Brooklyn\n",
    "9      GSW   Golden State\n",
    "12     LAC             LA\n",
    "13     LAL    Los Angeles\n",
    "18     NOP    New Orleans\n",
    "19     NYK       New York\n",
    "20     OKC  Oklahoma City\n",
    "23     PHX        Phoenix\n",
    "26     SAS    San Antonio\n",
    "```"
   ]
  },
  {
   "cell_type": "code",
   "execution_count": null,
   "metadata": {},
   "outputs": [],
   "source": [
    "def subset_nba_teams() -> pd.core.frame.DataFrame:\n",
    "    \"\"\"\n",
    "    >>> nba_teams_subset = subset_nba_teams()\n",
    "    >>> type(nba_teams_subset)\n",
    "    pandas.core.frame.DataFrame\n",
    "    >>> nba_teams_subset.shape\n",
    "    (9, 2)\n",
    "    \"\"\"\n",
    "    ### BEGIN SOLUTION\n",
    "    \n",
    "    ### END SOLUTION"
   ]
  },
  {
   "cell_type": "markdown",
   "metadata": {},
   "source": [
    "## 09. Define a function `create_movies()` which creates a DataFrame of IMDb's top 250 rated movies of all time given `movies.csv` in working directory.\n",
    "\n",
    "```\n",
    "      id                     title  release_year  rating  runtime  director_id\n",
    "0      1  The Shawshank Redemption          1994     9.2      142           43\n",
    "1      2             The Godfather          1972     9.2      175           41\n",
    "2      3           The Dark Knight          2008     9.0      152           20\n",
    "3      4     The Godfather Part II          1974     9.0      202           41\n",
    "4      5              12 Angry Men          1957     9.0       96          130\n",
    "..   ...                       ...           ...     ...      ...          ...\n",
    "245  246            The Iron Giant          1999     8.0       86           12\n",
    "246  247                  The Help          2011     8.0      146          138\n",
    "247  248                   Aladdin          1992     8.0       90          123\n",
    "248  249               Dersu Uzala          1975     8.0      142            3\n",
    "249  250        Dances with Wolves          1990     8.0      181           80\n",
    "\n",
    "[250 rows x 6 columns]\n",
    "```"
   ]
  },
  {
   "cell_type": "code",
   "execution_count": null,
   "metadata": {},
   "outputs": [],
   "source": [
    "def create_movies() -> pd.core.frame.DataFrame:\n",
    "    \"\"\"\n",
    "    >>> movies = create_movies()\n",
    "    >>> type(movies)\n",
    "    pandas.core.frame.DataFrame\n",
    "    >>> movies.shape\n",
    "    (250, 6)\n",
    "    \"\"\"\n",
    "    ### BEGIN SOLUTION\n",
    "    \n",
    "    ### END SOLUTION"
   ]
  },
  {
   "cell_type": "markdown",
   "metadata": {},
   "source": [
    "## 10. Define a function named `find_starwars_episodes()` which finds out \"Star Wars\" episodes given `movies.csv` in working directory.\n",
    "\n",
    "```\n",
    "    id                                           title  release_year  rating  \\\n",
    "14  15  Star Wars: Episode V - The Empire Strikes Back          1980     8.7   \n",
    "27  28              Star Wars: Episode IV - A New Hope          1977     8.5   \n",
    "88  89      Star Wars: Episode VI - Return of the Jedi          1983     8.3   \n",
    "\n",
    "    runtime  director_id  \n",
    "14      124           60  \n",
    "27      121           47  \n",
    "88      131          114\n",
    "```"
   ]
  },
  {
   "cell_type": "code",
   "execution_count": null,
   "metadata": {},
   "outputs": [],
   "source": [
    "def find_starwars_episodes() -> pd.core.frame.DataFrame:\n",
    "    \"\"\"\n",
    "    >>> starwars_episodes = find_starwars_episodes()\n",
    "    >>> type(starwars_episodes)\n",
    "    pandas.core.frame.DataFrame\n",
    "    >>> starwars_episodes.shape\n",
    "    (3, 6)\n",
    "    \"\"\"\n",
    "    ### BEGIN SOLUTION\n",
    "    \n",
    "    ### END SOLUTION"
   ]
  },
  {
   "cell_type": "markdown",
   "metadata": {},
   "source": [
    "## Running tests\n",
    "\n",
    "Assignment session is finished, click Runtime -> Restart and run all to run the following tests."
   ]
  },
  {
   "cell_type": "code",
   "execution_count": null,
   "metadata": {},
   "outputs": [],
   "source": [
    "class TestAssignmentFive(unittest.TestCase):\n",
    "    def test_01_import_all_time_olympic_medals(self):\n",
    "        all_time_olympic_medals = import_all_time_olympic_medals()\n",
    "        self.assertIsInstance(all_time_olympic_medals, pd.core.frame.DataFrame)\n",
    "        self.assertEqual(all_time_olympic_medals.shape, (157, 17))\n",
    "    def test_02_find_taiwan_from_all_time_olympic_medals(self):\n",
    "        taiwan_from_all_time_olympic_medals = find_taiwan_from_all_time_olympic_medals()\n",
    "        self.assertIsInstance(taiwan_from_all_time_olympic_medals, pd.core.frame.DataFrame)\n",
    "        self.assertEqual(taiwan_from_all_time_olympic_medals.shape, (1, 17))\n",
    "        self.assertEqual(taiwan_from_all_time_olympic_medals[\"team_ioc\"].values[0], \"TPE\")\n",
    "    def test_03_find_the_king_of_summer_olympics(self):\n",
    "        the_king_of_summer_olympics = find_the_king_of_summer_olympics()\n",
    "        self.assertIsInstance(the_king_of_summer_olympics, pd.core.frame.DataFrame)\n",
    "        self.assertEqual(the_king_of_summer_olympics.shape, (1, 17))\n",
    "        self.assertEqual(the_king_of_summer_olympics[\"team_ioc\"].values[0], \"USA\")\n",
    "    def test_04_find_the_king_of_winter_olympics(self):\n",
    "        the_king_of_winter_olympics = find_the_king_of_winter_olympics()\n",
    "        self.assertIsInstance(the_king_of_winter_olympics, pd.core.frame.DataFrame)\n",
    "        self.assertEqual(the_king_of_winter_olympics.shape, (1, 17))\n",
    "        self.assertEqual(the_king_of_winter_olympics[\"team_name\"].values[0], \"Norway\")\n",
    "    def test_05_calculate_summer_winter_medals_ratio(self):\n",
    "        summer_winter_medals_ratio = calculate_summer_winter_medals_ratio()\n",
    "        self.assertIsInstance(summer_winter_medals_ratio, pd.core.frame.DataFrame)\n",
    "        self.assertEqual(summer_winter_medals_ratio.shape, (156, 4))\n",
    "    def test_06_find_the_largest_summer_winter_medals_ratio(self):\n",
    "        the_largest_summer_winter_medals_ratio = find_the_largest_summer_winter_medals_ratio()\n",
    "        self.assertIsInstance(the_largest_summer_winter_medals_ratio, pd.core.frame.DataFrame)\n",
    "        self.assertEqual(the_largest_summer_winter_medals_ratio.shape, (1, 4))\n",
    "        self.assertEqual(the_largest_summer_winter_medals_ratio[\"team_name\"].values[0], \"Hungary\")\n",
    "    def test_07_create_nba_teams(self):\n",
    "        nba_teams = create_nba_teams()\n",
    "        self.assertIsInstance(nba_teams, pd.core.frame.DataFrame)\n",
    "        self.assertEqual(nba_teams.shape, (30, 5))\n",
    "        self.assertEqual(nba_teams[\"tricode\"].nunique(), 30)\n",
    "        self.assertEqual(nba_teams[\"confName\"].nunique(), 2)\n",
    "        self.assertEqual(nba_teams[\"divName\"].nunique(), 6)\n",
    "    def test_08_subset_nba_teams(self):\n",
    "        nba_teams_subset = subset_nba_teams()\n",
    "        self.assertIsInstance(nba_teams_subset, pd.core.frame.DataFrame)\n",
    "        self.assertEqual(nba_teams_subset.shape, (9, 2))\n",
    "    def test_09_create_movies(self):\n",
    "        movies = create_movies()\n",
    "        self.assertIsInstance(movies, pd.core.frame.DataFrame)\n",
    "        self.assertEqual(movies.shape, (250, 6))\n",
    "    def test_10_find_starwars_episodes(self):\n",
    "        starwars_episodes = find_starwars_episodes()\n",
    "        self.assertIsInstance(starwars_episodes, pd.core.frame.DataFrame)\n",
    "        self.assertEqual(starwars_episodes.shape, (3, 6))\n",
    "\n",
    "suite = unittest.TestLoader().loadTestsFromTestCase(TestAssignmentFive)\n",
    "runner = unittest.TextTestRunner(verbosity=2)\n",
    "test_results = runner.run(suite)\n",
    "number_of_failures = len(test_results.failures)\n",
    "number_of_errors = len(test_results.errors)\n",
    "number_of_test_runs = test_results.testsRun\n",
    "number_of_successes = number_of_test_runs - (number_of_failures + number_of_errors)"
   ]
  },
  {
   "cell_type": "code",
   "execution_count": null,
   "metadata": {},
   "outputs": [],
   "source": [
    "print(\"You've got {} successes among {} questions.\".format(number_of_successes, number_of_test_runs))"
   ]
  }
 ],
 "metadata": {
  "kernelspec": {
   "display_name": "Python 3 (ipykernel)",
   "language": "python",
   "name": "python3"
  },
  "language_info": {
   "codemirror_mode": {
    "name": "ipython",
    "version": 3
   },
   "file_extension": ".py",
   "mimetype": "text/x-python",
   "name": "python",
   "nbconvert_exporter": "python",
   "pygments_lexer": "ipython3",
   "version": "3.9.12"
  }
 },
 "nbformat": 4,
 "nbformat_minor": 4
}
