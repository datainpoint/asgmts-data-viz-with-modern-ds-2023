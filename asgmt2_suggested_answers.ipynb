{
 "cells": [
  {
   "cell_type": "markdown",
   "metadata": {
    "deletable": false,
    "editable": false
   },
   "source": [
    "# Data Visualization with Modern Data Science\n",
    "\n",
    "> Assignment 2\n",
    "\n",
    "Yao-Jen Kuo <yaojenkuo@ntu.edu.tw> from [DATAINPOINT](https://www.datainpoint.com)"
   ]
  },
  {
   "cell_type": "markdown",
   "metadata": {
    "deletable": false
   },
   "source": [
    "## Instructions\n",
    "\n",
    "- It is highly recommended that you test your solution in SQLiteStudio then paste into Google Colab.\n",
    "- Write down your solution between comments `-- BEGIN SOLUTION` and `-- END SOLUTION`.\n",
    "- Running tests to see if your solutions are right:\n",
    "    - Runtime -> Restart and run all.\n",
    "- When you are ready to submit, click File -> Download -> Download `.py`.\n",
    "\n",
    "![](https://i.imgur.com/Y1BcDdx.png)\n",
    "\n",
    "- Open a new Colab in a private window, upload the script and run tests again before submission to make sure the script is executable in a fresh new Colab.\n",
    "\n",
    "![](https://i.imgur.com/ojlvbds.png)\n",
    "\n",
    "- Upload to the Assignment session on NTU COOL."
   ]
  },
  {
   "cell_type": "markdown",
   "metadata": {},
   "source": [
    "## Run the cell below to download given files at your working directory."
   ]
  },
  {
   "cell_type": "code",
   "execution_count": 1,
   "metadata": {},
   "outputs": [],
   "source": [
    "import unittest\n",
    "import requests\n",
    "import numpy as np\n",
    "import pandas as pd\n",
    "import sqlite3\n",
    "\n",
    "file_names = [\"covid19.db\"]\n",
    "for file_name in file_names:\n",
    "    file_url = f\"https://raw.githubusercontent.com/datainpoint/asgmts-data-viz-with-modern-ds-2023/main/{file_name}\"\n",
    "    r = requests.get(file_url)\n",
    "    with open(file_name , \"wb\") as f:\n",
    "        f.write(r.content)"
   ]
  },
  {
   "cell_type": "markdown",
   "metadata": {},
   "source": [
    "## 01. Write a SQL statement that is able to select all the columns and records from `daily_report` as specified.\n",
    "\n",
    "```\n",
    "              Combined_Key          Last_Update  Confirmed  Deaths\n",
    "0              Afghanistan  2023-02-01 04:20:54     208545    7882\n",
    "1                  Albania  2023-02-01 04:20:54     334167    3596\n",
    "2                  Algeria  2023-02-01 04:20:54     271378    6881\n",
    "3                  Andorra  2023-02-01 04:20:54      47839     165\n",
    "4                   Angola  2023-02-01 04:20:54     105184    1931\n",
    "...                    ...                  ...        ...     ...\n",
    "4011    West Bank and Gaza  2023-02-01 04:20:54     703228    5708\n",
    "4012  Winter Olympics 2022  2023-02-01 04:20:54        535       0\n",
    "4013                 Yemen  2023-02-01 04:20:54      11945    2159\n",
    "4014                Zambia  2023-02-01 04:20:54     340763    4047\n",
    "4015              Zimbabwe  2023-02-01 04:20:54     261606    5652\n",
    "\n",
    "[4016 rows x 4 columns]\n",
    "```"
   ]
  },
  {
   "cell_type": "code",
   "execution_count": 2,
   "metadata": {},
   "outputs": [],
   "source": [
    "select_all_from_daily_report =\\\n",
    "\"\"\"\n",
    "-- BEGIN SOLUTION\n",
    "SELECT *\n",
    "  FROM daily_report;\n",
    "-- END SOLUTION\n",
    "\"\"\""
   ]
  },
  {
   "cell_type": "markdown",
   "metadata": {},
   "source": [
    "## 02. Write a SQL statement that is able to select four variables from `time_series` as specified.\n",
    "\n",
    "```\n",
    "              Date        Country_Region  Confirmed  Daily_Cases\n",
    "0       2020-01-22           Afghanistan          0            0\n",
    "1       2020-01-22               Albania          0            0\n",
    "2       2020-01-22               Algeria          0            0\n",
    "3       2020-01-22               Andorra          0            0\n",
    "4       2020-01-22                Angola          0            0\n",
    "...            ...                   ...        ...          ...\n",
    "222301  2023-01-31    West Bank and Gaza     703228            0\n",
    "222302  2023-01-31  Winter Olympics 2022        535            0\n",
    "222303  2023-01-31                 Yemen      11945            0\n",
    "222304  2023-01-31                Zambia     340763          181\n",
    "222305  2023-01-31              Zimbabwe     261606            0\n",
    "\n",
    "[222306 rows x 4 columns]\n",
    "```"
   ]
  },
  {
   "cell_type": "code",
   "execution_count": 3,
   "metadata": {},
   "outputs": [],
   "source": [
    "select_variables_from_time_series =\\\n",
    "\"\"\"\n",
    "-- BEGIN SOLUTION\n",
    "SELECT Date,\n",
    "       Country_Region,\n",
    "       Confirmed,\n",
    "       Daily_Cases\n",
    "  FROM time_series;\n",
    "-- END SOLUTION\n",
    "\"\"\""
   ]
  },
  {
   "cell_type": "markdown",
   "metadata": {},
   "source": [
    "## 03. Write a SQL statement that is able to find the records of Taiwan in `time_series`.\n",
    "\n",
    "```\n",
    "            Date Country_Region  Confirmed  Deaths  Daily_Cases  Daily_Deaths\n",
    "0     2020-01-22         Taiwan          1       0            1             0\n",
    "1     2020-01-23         Taiwan          1       0            0             0\n",
    "2     2020-01-24         Taiwan          3       0            2             0\n",
    "3     2020-01-25         Taiwan          3       0            0             0\n",
    "4     2020-01-26         Taiwan          4       0            1             0\n",
    "...          ...            ...        ...     ...          ...           ...\n",
    "1101  2023-01-27         Taiwan    9428486   16204        24348            15\n",
    "1102  2023-01-28         Taiwan    9455924   16224        27438            20\n",
    "1103  2023-01-29         Taiwan    9483267   16246        27343            22\n",
    "1104  2023-01-30         Taiwan    9505551   16276        22284            30\n",
    "1105  2023-01-31         Taiwan    9537823   16308        32272            32\n",
    "\n",
    "[1106 rows x 6 columns]\n",
    "```"
   ]
  },
  {
   "cell_type": "code",
   "execution_count": 4,
   "metadata": {},
   "outputs": [],
   "source": [
    "find_taiwan_from_time_series =\\\n",
    "\"\"\"\n",
    "-- BEGIN SOLUTION\n",
    "SELECT *\n",
    "  FROM time_series\n",
    " WHERE Country_Region = 'Taiwan';\n",
    "-- END SOLUTION\n",
    "\"\"\""
   ]
  },
  {
   "cell_type": "markdown",
   "metadata": {},
   "source": [
    "## 04. Write a SQL statement that is able to find the records of Taiwan and dates after 2021-12-31 in `time_series` as specified.\n",
    "\n",
    "```\n",
    "    Country_Region        Date  Daily_Cases\n",
    "0           Taiwan  2022-01-01           21\n",
    "1           Taiwan  2022-01-02           20\n",
    "2           Taiwan  2022-01-03           25\n",
    "3           Taiwan  2022-01-04           34\n",
    "4           Taiwan  2022-01-05           26\n",
    "..             ...         ...          ...\n",
    "391         Taiwan  2023-01-27        24348\n",
    "392         Taiwan  2023-01-28        27438\n",
    "393         Taiwan  2023-01-29        27343\n",
    "394         Taiwan  2023-01-30        22284\n",
    "395         Taiwan  2023-01-31        32272\n",
    "\n",
    "[396 rows x 3 columns]\n",
    "```"
   ]
  },
  {
   "cell_type": "code",
   "execution_count": 5,
   "metadata": {},
   "outputs": [],
   "source": [
    "find_taiwan_and_specific_date_range_from_time_series =\\\n",
    "\"\"\"\n",
    "-- BEGIN SOLUTION\n",
    "SELECT Country_Region,\n",
    "       Date,\n",
    "       Daily_Cases\n",
    "  FROM time_series\n",
    " WHERE Country_Region = 'Taiwan' AND\n",
    "       Date > '2021-12-31';\n",
    "-- END SOLUTION\n",
    "\"\"\""
   ]
  },
  {
   "cell_type": "markdown",
   "metadata": {},
   "source": [
    "## 05. Write a SQL statement that is able to find the distinct `Last_Update` in `daily_report` as specified.\n",
    "\n",
    "```\n",
    "            Last_Update\n",
    "0   2023-02-01 04:20:54\n",
    "1   2020-12-21 13:27:30\n",
    "2   2022-11-22 23:21:06\n",
    "3   2023-01-30 23:20:55\n",
    "4   2020-08-04 02:27:56\n",
    "5   2022-10-21 23:21:56\n",
    "6   2022-09-12 23:21:04\n",
    "7   2020-08-07 22:34:20\n",
    "8   2021-10-10 23:21:42\n",
    "9   2021-07-31 23:21:38\n",
    "10  2023-01-08 23:21:00\n",
    "```"
   ]
  },
  {
   "cell_type": "code",
   "execution_count": 6,
   "metadata": {},
   "outputs": [],
   "source": [
    "find_distinct_last_update_from_daily_report =\\\n",
    "\"\"\"\n",
    "-- BEGIN SOLUTION\n",
    "SELECT DISTINCT Last_Update\n",
    "  FROM daily_report;\n",
    "-- END SOLUTION\n",
    "\"\"\""
   ]
  },
  {
   "cell_type": "markdown",
   "metadata": {},
   "source": [
    "## 06. Write a SQL statement that is able to find the distinct `Date` in `time_series` as specified.\n",
    "\n",
    "```\n",
    "            Date\n",
    "0     2020-01-22\n",
    "1     2020-01-23\n",
    "2     2020-01-24\n",
    "3     2020-01-25\n",
    "4     2020-01-26\n",
    "...          ...\n",
    "1101  2023-01-27\n",
    "1102  2023-01-28\n",
    "1103  2023-01-29\n",
    "1104  2023-01-30\n",
    "1105  2023-01-31\n",
    "\n",
    "[1106 rows x 1 columns]\n",
    "```"
   ]
  },
  {
   "cell_type": "code",
   "execution_count": 7,
   "metadata": {},
   "outputs": [],
   "source": [
    "find_distinct_date_from_time_series =\\\n",
    "\"\"\"\n",
    "-- BEGIN SOLUTION\n",
    "SELECT DISTINCT Date\n",
    "  FROM time_series;\n",
    "-- END SOLUTION\n",
    "\"\"\""
   ]
  },
  {
   "cell_type": "markdown",
   "metadata": {},
   "source": [
    "## 07. Write a SQL statement that is able to find the records of US in `daily_report` as specified.\n",
    "\n",
    "```\n",
    "                 Combined_Key  Confirmed  Deaths\n",
    "0        Autauga, Alabama, US      19471     230\n",
    "1        Baldwin, Alabama, US      68983     723\n",
    "2        Barbour, Alabama, US       7299     103\n",
    "3           Bibb, Alabama, US       7919     109\n",
    "4         Blount, Alabama, US      18255     261\n",
    "...                       ...        ...     ...\n",
    "3273       Teton, Wyoming, US      12058      16\n",
    "3274       Uinta, Wyoming, US       6317      43\n",
    "3275  Unassigned, Wyoming, US          0       0\n",
    "3276    Washakie, Wyoming, US       2729      47\n",
    "3277      Weston, Wyoming, US       1880      22\n",
    "\n",
    "[3278 rows x 3 columns]\n",
    "```"
   ]
  },
  {
   "cell_type": "code",
   "execution_count": 8,
   "metadata": {},
   "outputs": [],
   "source": [
    "find_us_from_daily_report =\\\n",
    "\"\"\"\n",
    "-- BEGIN SOLUTION\n",
    "SELECT Combined_Key,\n",
    "       Confirmed,\n",
    "       Deaths\n",
    "  FROM daily_report\n",
    " WHERE Combined_Key LIKE '%, US';\n",
    "-- END SOLUTION\n",
    "\"\"\""
   ]
  },
  {
   "cell_type": "markdown",
   "metadata": {},
   "source": [
    "## 08. Write a SQL statement that is able to find the records of US in `daily_report` and show the top 10 records with the most `Confirmed` as specified.\n",
    "\n",
    "```\n",
    "                  Combined_Key  Confirmed\n",
    "0  Los Angeles, California, US    3676266\n",
    "1      Miami-Dade, Florida, US    1524998\n",
    "2           Cook, Illinois, US    1507271\n",
    "3        Maricopa, Arizona, US    1495588\n",
    "4            Harris, Texas, US    1258801\n",
    "5    San Diego, California, US    1055035\n",
    "6          Kings, New York, US     952898\n",
    "7         Queens, New York, US     894868\n",
    "8       Orange, California, US     777812\n",
    "9    Riverside, California, US     770851\n",
    "```"
   ]
  },
  {
   "cell_type": "code",
   "execution_count": 9,
   "metadata": {},
   "outputs": [],
   "source": [
    "find_us_most_ten_confirmed_from_daily_report =\\\n",
    "\"\"\"\n",
    "-- BEGIN SOLUTION\n",
    "SELECT Combined_Key,\n",
    "       Confirmed\n",
    "  FROM daily_report\n",
    " WHERE Combined_Key LIKE '%, US'\n",
    " ORDER BY Confirmed DESC\n",
    " LIMIT 10;\n",
    "-- END SOLUTION\n",
    "\"\"\""
   ]
  },
  {
   "cell_type": "markdown",
   "metadata": {},
   "source": [
    "## 09. Write a SQL statement that is able to find the records of US in `lookup_table`.\n",
    "\n",
    "```\n",
    "           UID                   Combined_Key iso2 iso3 Country_Region  \\\n",
    "0           16             American Samoa, US   AS  ASM             US   \n",
    "1          316                       Guam, US   GU  GUM             US   \n",
    "2          580   Northern Mariana Islands, US   MP  MNP             US   \n",
    "3          630                Puerto Rico, US   PR  PRI             US   \n",
    "4          840                             US   US  USA             US   \n",
    "...        ...                            ...  ...  ...            ...   \n",
    "3401  84090053     Unassigned, Washington, US   US  USA             US   \n",
    "3402  84090054  Unassigned, West Virginia, US   US  USA             US   \n",
    "3403  84090055      Unassigned, Wisconsin, US   US  USA             US   \n",
    "3404  84090056        Unassigned, Wyoming, US   US  USA             US   \n",
    "3405  84099999             Grand Princess, US   US  USA             US   \n",
    "\n",
    "                Province_State      Admin2      Lat     Long_   Population  \n",
    "0               American Samoa        None -14.2710 -170.1320      55641.0  \n",
    "1                         Guam        None  13.4443  144.7937     164229.0  \n",
    "2     Northern Mariana Islands        None  15.0979  145.6739      55144.0  \n",
    "3                  Puerto Rico        None  18.2208  -66.5901    3193694.0  \n",
    "4                         None        None  40.0000 -100.0000  329466283.0  \n",
    "...                        ...         ...      ...       ...          ...  \n",
    "3401                Washington  Unassigned      NaN       NaN          NaN  \n",
    "3402             West Virginia  Unassigned      NaN       NaN          NaN  \n",
    "3403                 Wisconsin  Unassigned      NaN       NaN          NaN  \n",
    "3404                   Wyoming  Unassigned      NaN       NaN          NaN  \n",
    "3405            Grand Princess        None      NaN       NaN          NaN  \n",
    "\n",
    "[3406 rows x 10 columns]\n",
    "```"
   ]
  },
  {
   "cell_type": "code",
   "execution_count": 10,
   "metadata": {},
   "outputs": [],
   "source": [
    "find_us_from_lookup_table =\\\n",
    "\"\"\"\n",
    "-- BEGIN SOLUTION\n",
    "SELECT *\n",
    "  FROM lookup_table\n",
    " WHERE Country_Region = 'US';\n",
    "-- END SOLUTION\n",
    "\"\"\""
   ]
  },
  {
   "cell_type": "markdown",
   "metadata": {},
   "source": [
    "## 10. Write a SQL statement that is able to find the records of Russia and Ukraine in `lookup_table`.\n",
    "\n",
    "```\n",
    "       UID                 Combined_Key iso2 iso3 Country_Region  \\\n",
    "0      643                       Russia   RU  RUS         Russia   \n",
    "1      804                      Ukraine   UA  UKR        Ukraine   \n",
    "2    64301      Adygea Republic, Russia   RU  RUS         Russia   \n",
    "3    64302           Altai Krai, Russia   RU  RUS         Russia   \n",
    "4    64303       Altai Republic, Russia   RU  RUS         Russia   \n",
    "..     ...                          ...  ...  ...            ...   \n",
    "109  80424        Volyn Oblast, Ukraine   UA  UKR        Ukraine   \n",
    "110  80425  Zakarpattia Oblast, Ukraine   UA  UKR        Ukraine   \n",
    "111  80426   Zaporizhia Oblast, Ukraine   UA  UKR        Ukraine   \n",
    "112  80427     Zhytomyr Oblast, Ukraine   UA  UKR        Ukraine   \n",
    "113  80428             Unknown, Ukraine   UA  UKR        Ukraine   \n",
    "\n",
    "         Province_State Admin2        Lat       Long_   Population  \n",
    "0                  None   None  61.524010  105.318756  145934460.0  \n",
    "1                  None   None  48.379400   31.165600   43733759.0  \n",
    "2       Adygea Republic   None  44.693901   40.152042     453376.0  \n",
    "3            Altai Krai   None  52.693224   82.693142    2350080.0  \n",
    "4        Altai Republic   None  50.711410   86.857219     218063.0  \n",
    "..                  ...    ...        ...         ...          ...  \n",
    "109        Volyn Oblast   None  50.747200   25.325400    1035330.0  \n",
    "110  Zakarpattia Oblast   None  48.620800   22.287900    1256802.0  \n",
    "111   Zaporizhia Oblast   None  47.838800   35.139600    1705836.0  \n",
    "112     Zhytomyr Oblast   None  50.254700   28.658700    1220193.0  \n",
    "113             Unknown   None        NaN         NaN          NaN  \n",
    "\n",
    "[114 rows x 10 columns]\n",
    "```"
   ]
  },
  {
   "cell_type": "code",
   "execution_count": 11,
   "metadata": {},
   "outputs": [],
   "source": [
    "find_russia_and_ukraine_from_lookup_table =\\\n",
    "\"\"\"\n",
    "-- BEGIN SOLUTION\n",
    "SELECT *\n",
    "  FROM lookup_table\n",
    " WHERE Country_Region IN ('Russia', 'Ukraine');\n",
    "-- END SOLUTION\n",
    "\"\"\""
   ]
  },
  {
   "cell_type": "markdown",
   "metadata": {
    "deletable": false
   },
   "source": [
    "## End of assignment, run the following cells to get test result."
   ]
  },
  {
   "cell_type": "code",
   "execution_count": 12,
   "metadata": {},
   "outputs": [
    {
     "name": "stderr",
     "output_type": "stream",
     "text": [
      "test_01_select_all_from_daily_report (__main__.TestAssignmentTwo) ... ok\n",
      "test_02_select_variables_from_time_series (__main__.TestAssignmentTwo) ... ok\n",
      "test_03_find_taiwan_from_time_series (__main__.TestAssignmentTwo) ... ok\n",
      "test_04_find_taiwan_and_specific_date_range_from_time_series (__main__.TestAssignmentTwo) ... ok\n",
      "test_05_find_distinct_last_update_from_daily_report (__main__.TestAssignmentTwo) ... ok\n",
      "test_06_find_distinct_date_from_time_series (__main__.TestAssignmentTwo) ... ok\n",
      "test_07_find_us_from_daily_report (__main__.TestAssignmentTwo) ... ok\n",
      "test_08_find_us_most_ten_confirmed_from_daily_report (__main__.TestAssignmentTwo) ... ok\n",
      "test_09_find_us_from_lookup_table (__main__.TestAssignmentTwo) ... ok\n",
      "test_10_find_russia_and_ukraine_from_lookup_table (__main__.TestAssignmentTwo) ... ok\n",
      "\n",
      "----------------------------------------------------------------------\n",
      "Ran 10 tests in 0.865s\n",
      "\n",
      "OK\n"
     ]
    },
    {
     "name": "stdout",
     "output_type": "stream",
     "text": [
      "You've got 10 successes among 10 questions.\n"
     ]
    }
   ],
   "source": [
    "class TestAssignmentTwo(unittest.TestCase):\n",
    "    def test_01_select_all_from_daily_report(self):\n",
    "        all_from_daily_report = pd.read_sql(select_all_from_daily_report, connection)\n",
    "        self.assertEqual(all_from_daily_report.shape, (4016, 4))\n",
    "    def test_02_select_variables_from_time_series(self):\n",
    "        variables_from_time_series = pd.read_sql(select_variables_from_time_series, connection)\n",
    "        self.assertEqual(variables_from_time_series.shape, (222306, 4))\n",
    "        columns = variables_from_time_series.columns\n",
    "        self.assertIn(\"Date\", columns)\n",
    "        self.assertIn(\"Country_Region\", columns)\n",
    "        self.assertIn(\"Confirmed\", columns)\n",
    "        self.assertIn(\"Daily_Cases\", columns)\n",
    "    def test_03_find_taiwan_from_time_series(self):\n",
    "        taiwan_from_time_series = pd.read_sql(find_taiwan_from_time_series, connection)\n",
    "        self.assertEqual(taiwan_from_time_series.shape, (1106, 6))\n",
    "        np.testing.assert_equal(taiwan_from_time_series['Country_Region'].unique(),\n",
    "                               np.array(['Taiwan']))\n",
    "    def test_04_find_taiwan_and_specific_date_range_from_time_series(self):\n",
    "        taiwan_and_specific_date_range_from_time_series = pd.read_sql(find_taiwan_and_specific_date_range_from_time_series, connection)\n",
    "        self.assertEqual(taiwan_and_specific_date_range_from_time_series.shape, (396, 3))\n",
    "        np.testing.assert_equal(taiwan_and_specific_date_range_from_time_series['Country_Region'].unique(),\n",
    "                               np.array(['Taiwan']))\n",
    "    def test_05_find_distinct_last_update_from_daily_report(self):\n",
    "        distinct_last_update_from_daily_report = pd.read_sql(find_distinct_last_update_from_daily_report, connection)\n",
    "        self.assertEqual(distinct_last_update_from_daily_report.shape, (11, 1))\n",
    "    def test_06_find_distinct_date_from_time_series(self):\n",
    "        distinct_date_from_time_series = pd.read_sql(find_distinct_date_from_time_series, connection)\n",
    "        self.assertEqual(distinct_date_from_time_series.shape, (1106, 1))\n",
    "    def test_07_find_us_from_daily_report(self):\n",
    "        us_from_daily_report = pd.read_sql(find_us_from_daily_report, connection)\n",
    "        self.assertEqual(us_from_daily_report.shape, (3278, 3))\n",
    "    def test_08_find_us_most_ten_confirmed_from_daily_report(self):\n",
    "        us_most_ten_confirmed_from_daily_report = pd.read_sql(find_us_most_ten_confirmed_from_daily_report, connection)\n",
    "        self.assertEqual(us_most_ten_confirmed_from_daily_report.shape, (10, 2))\n",
    "        combined_keys = us_most_ten_confirmed_from_daily_report[\"Combined_Key\"].values\n",
    "        self.assertIn(\"Los Angeles, California, US\", combined_keys)\n",
    "        self.assertIn(\"Maricopa, Arizona, US\", combined_keys)\n",
    "        self.assertIn(\"Miami-Dade, Florida, US\", combined_keys)\n",
    "        self.assertIn(\"Cook, Illinois, US\", combined_keys)\n",
    "        self.assertIn(\"Harris, Texas, US\", combined_keys)\n",
    "    def test_09_find_us_from_lookup_table(self):\n",
    "        us_from_lookup_table = pd.read_sql(find_us_from_lookup_table, connection)\n",
    "        self.assertEqual(us_from_lookup_table.shape, (3406, 10))\n",
    "        np.testing.assert_equal(us_from_lookup_table['Country_Region'].unique(),\n",
    "                                np.array(['US']))\n",
    "    def test_10_find_russia_and_ukraine_from_lookup_table(self):\n",
    "        russia_and_ukraine_from_lookup_table = pd.read_sql(find_russia_and_ukraine_from_lookup_table, connection)\n",
    "        self.assertEqual(russia_and_ukraine_from_lookup_table.shape, (114, 10))\n",
    "        country_regions = russia_and_ukraine_from_lookup_table[\"Country_Region\"].values\n",
    "        self.assertIn(\"Russia\", country_regions)\n",
    "        self.assertIn(\"Ukraine\", country_regions)\n",
    "        \n",
    "connection = sqlite3.connect(\"covid19.db\")\n",
    "suite = unittest.TestLoader().loadTestsFromTestCase(TestAssignmentTwo)\n",
    "runner = unittest.TextTestRunner(verbosity=2)\n",
    "test_results = runner.run(suite)\n",
    "number_of_failures = len(test_results.failures)\n",
    "number_of_errors = len(test_results.errors)\n",
    "number_of_test_runs = test_results.testsRun\n",
    "number_of_successes = number_of_test_runs - (number_of_failures + number_of_errors)\n",
    "print(f\"You've got {number_of_successes} successes among {number_of_test_runs} questions.\")"
   ]
  }
 ],
 "metadata": {
  "celltoolbar": "Edit Metadata",
  "kernelspec": {
   "display_name": "Python 3 (ipykernel)",
   "language": "python",
   "name": "python3"
  },
  "language_info": {
   "codemirror_mode": {
    "name": "ipython",
    "version": 3
   },
   "file_extension": ".py",
   "mimetype": "text/x-python",
   "name": "python",
   "nbconvert_exporter": "python",
   "pygments_lexer": "ipython3",
   "version": "3.9.12"
  }
 },
 "nbformat": 4,
 "nbformat_minor": 4
}
